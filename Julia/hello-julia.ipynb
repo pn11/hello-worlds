{
 "cells": [
  {
   "cell_type": "markdown",
   "metadata": {},
   "source": [
    "# Hello Julia\n",
    "\n",
    "Julia 0.6.2 でやってます。\n",
    "\n",
    "`println()` で一行出力。改行しない場合は `print()`"
   ]
  },
  {
   "cell_type": "code",
   "execution_count": 1,
   "metadata": {},
   "outputs": [
    {
     "name": "stdout",
     "output_type": "stream",
     "text": [
      "Hello Julia!\n"
     ]
    }
   ],
   "source": [
    "println(\"Hello Julia!\")"
   ]
  },
  {
   "cell_type": "markdown",
   "metadata": {},
   "source": [
    "変数をそのまま書いたら勝手に出力される。"
   ]
  },
  {
   "cell_type": "code",
   "execution_count": 2,
   "metadata": {},
   "outputs": [
    {
     "data": {
      "text/plain": [
       "\"Hello Julia!\""
      ]
     },
     "execution_count": 2,
     "metadata": {},
     "output_type": "execute_result"
    }
   ],
   "source": [
    "\"Hello Julia!\""
   ]
  },
  {
   "cell_type": "markdown",
   "metadata": {},
   "source": [
    "セミコロンを付けると出力されない。(Matlabっぽい。)"
   ]
  },
  {
   "cell_type": "code",
   "execution_count": 3,
   "metadata": {},
   "outputs": [],
   "source": [
    "\"Hello Julia!\";"
   ]
  },
  {
   "cell_type": "markdown",
   "metadata": {},
   "source": [
    "for文の例 (Matlabっぽい)。変数に `$` を付けたり `$()` で囲うと文字列中で使える。(Shell script　や　Perl っぽい。Ruby だと `#{}`)"
   ]
  },
  {
   "cell_type": "code",
   "execution_count": 4,
   "metadata": {},
   "outputs": [
    {
     "name": "stdout",
     "output_type": "stream",
     "text": [
      "hello 0\n",
      "hello 1\n",
      "hello 2\n",
      "hello 3\n"
     ]
    }
   ],
   "source": [
    "for i in 0:3\n",
    "    println(\"hello $i\")\n",
    "end"
   ]
  },
  {
   "cell_type": "markdown",
   "metadata": {},
   "source": [
    "`string()` で文字列型に変換できる。文字列を結合する演算子が `*` なのはちょっと慣れない。String は Java と同じで immutable と書いてあった。あと、普通の動的言語にはない cha→  [Strings · The Julia Language](https://docs.julialang.org/en/release-0.6/manual/strings/#man-strings-1)"
   ]
  },
  {
   "cell_type": "code",
   "execution_count": 5,
   "metadata": {
    "scrolled": true
   },
   "outputs": [
    {
     "name": "stdout",
     "output_type": "stream",
     "text": [
      "hello 0\n",
      "hello 1\n",
      "hello 2\n",
      "hello 3\n"
     ]
    }
   ],
   "source": [
    "for i in 0:3\n",
    "    println(\"hello\" * \" \" * string(i))\n",
    "end"
   ]
  },
  {
   "cell_type": "markdown",
   "metadata": {},
   "source": [
    "また、次のようにもできる。"
   ]
  },
  {
   "cell_type": "code",
   "execution_count": 6,
   "metadata": {},
   "outputs": [
    {
     "data": {
      "text/plain": [
       "\"hello 100\""
      ]
     },
     "execution_count": 6,
     "metadata": {},
     "output_type": "execute_result"
    }
   ],
   "source": [
    "i = 100\n",
    "string(\"hello\", \" \", i)"
   ]
  },
  {
   "cell_type": "markdown",
   "metadata": {},
   "source": [
    "`repr()` でもできる。"
   ]
  },
  {
   "cell_type": "code",
   "execution_count": 7,
   "metadata": {
    "scrolled": true
   },
   "outputs": [
    {
     "name": "stdout",
     "output_type": "stream",
     "text": [
      "hello 100\n"
     ]
    }
   ],
   "source": [
    "i = 100\n",
    "println(\"hello\" * \" \" * repr(i))"
   ]
  },
  {
   "cell_type": "markdown",
   "metadata": {},
   "source": [
    "リスト内包表記でも書ける。"
   ]
  },
  {
   "cell_type": "code",
   "execution_count": 8,
   "metadata": {},
   "outputs": [
    {
     "name": "stdout",
     "output_type": "stream",
     "text": [
      "hello 0\n",
      "hello 1\n",
      "hello 2\n",
      "hello 3\n"
     ]
    },
    {
     "data": {
      "text/plain": [
       "4-element Array{Void,1}:\n",
       " nothing\n",
       " nothing\n",
       " nothing\n",
       " nothing"
      ]
     },
     "execution_count": 8,
     "metadata": {},
     "output_type": "execute_result"
    }
   ],
   "source": [
    "[println(\"hello \" * repr(i)) for i in 0:3]"
   ]
  },
  {
   "cell_type": "markdown",
   "metadata": {},
   "source": [
    "リスト内包表記で配列を作った後、foreach っぽくやると、"
   ]
  },
  {
   "cell_type": "code",
   "execution_count": 9,
   "metadata": {},
   "outputs": [
    {
     "name": "stdout",
     "output_type": "stream",
     "text": [
      "hello 0\n",
      "hello 1\n",
      "hello 2\n",
      "hello 3\n"
     ]
    }
   ],
   "source": [
    "array = [\"hello \" * repr(i) for i in 0:3]\n",
    "\n",
    "for a in array\n",
    "    println(a)\n",
    "end"
   ]
  }
 ],
 "metadata": {
  "kernelspec": {
   "display_name": "Julia 0.6.2",
   "language": "julia",
   "name": "julia-0.6"
  },
  "language_info": {
   "file_extension": ".jl",
   "mimetype": "application/julia",
   "name": "julia",
   "version": "0.6.2"
  }
 },
 "nbformat": 4,
 "nbformat_minor": 2
}
