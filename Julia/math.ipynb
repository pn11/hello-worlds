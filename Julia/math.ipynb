{
 "cells": [
  {
   "cell_type": "markdown",
   "metadata": {},
   "source": [
    "# 数学機能\n",
    "\n",
    "Julia 0.6.2 でやってます。\n",
    "\n",
    "## 四則演算など\n",
    "\n",
    "文字と数字の掛け算のときは演算子を省略できる。"
   ]
  },
  {
   "cell_type": "code",
   "execution_count": 1,
   "metadata": {},
   "outputs": [
    {
     "name": "stdout",
     "output_type": "stream",
     "text": [
      "200\n",
      "200.0\n"
     ]
    }
   ],
   "source": [
    "a = 100\n",
    "println(2a)\n",
    "println(2.0a)"
   ]
  },
  {
   "cell_type": "markdown",
   "metadata": {},
   "source": [
    "2バイト文字も使えるのでギリシア文字を使った式が書ける。円周率は`π`と`pi`に入っている。"
   ]
  },
  {
   "cell_type": "code",
   "execution_count": 2,
   "metadata": {},
   "outputs": [
    {
     "name": "stdout",
     "output_type": "stream",
     "text": [
      "6.283185307179586\n",
      "6.283185307179586\n"
     ]
    }
   ],
   "source": [
    "println(2π)\n",
    "println(2pi)"
   ]
  },
  {
   "cell_type": "markdown",
   "metadata": {},
   "source": [
    "整数型同士の除算で割り切れないときは小数になる (Python3っぽい)。Python3の`//`をやりたいときは`div()`を使う。めんどい。"
   ]
  },
  {
   "cell_type": "code",
   "execution_count": 3,
   "metadata": {},
   "outputs": [
    {
     "name": "stdout",
     "output_type": "stream",
     "text": [
      "1.5\n",
      "1\n"
     ]
    }
   ],
   "source": [
    "println(3/2)\n",
    "println(div(3, 2))"
   ]
  },
  {
   "cell_type": "markdown",
   "metadata": {},
   "source": [
    "余りは`%`か remainder の `rem()`。"
   ]
  },
  {
   "cell_type": "code",
   "execution_count": 4,
   "metadata": {},
   "outputs": [
    {
     "name": "stdout",
     "output_type": "stream",
     "text": [
      "1\n",
      "1\n"
     ]
    }
   ],
   "source": [
    "println(3%2)\n",
    "println(rem(3, 2))"
   ]
  },
  {
   "cell_type": "markdown",
   "metadata": {},
   "source": [
    "累乗が`^`で書けるのはうれしい。"
   ]
  },
  {
   "cell_type": "code",
   "execution_count": 5,
   "metadata": {
    "scrolled": true
   },
   "outputs": [
    {
     "data": {
      "text/plain": [
       "1024"
      ]
     },
     "execution_count": 5,
     "metadata": {},
     "output_type": "execute_result"
    }
   ],
   "source": [
    "2^10"
   ]
  },
  {
   "cell_type": "markdown",
   "metadata": {},
   "source": [
    "イコール付きの不等号は次の二通りで書ける。"
   ]
  },
  {
   "cell_type": "code",
   "execution_count": 6,
   "metadata": {},
   "outputs": [
    {
     "name": "stdout",
     "output_type": "stream",
     "text": [
      "a\n",
      "b\n"
     ]
    }
   ],
   "source": [
    "x = 3\n",
    "if x ≥ 2\n",
    "    println(\"a\")\n",
    "end\n",
    "\n",
    "if x >= 3\n",
    "    println(\"b\")\n",
    "end"
   ]
  },
  {
   "cell_type": "markdown",
   "metadata": {},
   "source": [
    "## 線形代数\n",
    "\n",
    "行列（多次元配列）を書こう！ NumPy や MATLAB をよく知らないのであまり比較できない。  \n",
    "2x2行列はこんな感じ。"
   ]
  },
  {
   "cell_type": "code",
   "execution_count": 7,
   "metadata": {},
   "outputs": [
    {
     "data": {
      "text/plain": [
       "2×2 Array{Int64,2}:\n",
       " 1  2\n",
       " 3  4"
      ]
     },
     "execution_count": 7,
     "metadata": {},
     "output_type": "execute_result"
    }
   ],
   "source": [
    "[1 2; 3 4]"
   ]
  },
  {
   "cell_type": "markdown",
   "metadata": {},
   "source": [
    "サイズの取得などがクラスメソッドではなく関数なのがちょっと。NumPyでは便利な `reshape()` もちょっと使いにくい。"
   ]
  },
  {
   "cell_type": "code",
   "execution_count": 8,
   "metadata": {
    "scrolled": true
   },
   "outputs": [
    {
     "name": "stdout",
     "output_type": "stream",
     "text": [
      "(2, 2)\n",
      "2\n"
     ]
    },
    {
     "data": {
      "text/plain": [
       "4×1 Array{Int64,2}:\n",
       " 1\n",
       " 3\n",
       " 2\n",
       " 4"
      ]
     },
     "execution_count": 8,
     "metadata": {},
     "output_type": "execute_result"
    }
   ],
   "source": [
    "A = [1 2;3 4;]\n",
    "println(size(A))\n",
    "println(ndims(A))\n",
    "reshape(A, 4, 1)"
   ]
  },
  {
   "cell_type": "markdown",
   "metadata": {},
   "source": [
    "行列と行列の`*`での演算は、NumPyだとアダマール積になってたはずだけど、Juliaだと普通の行列積になる。アダマール積にするには `.*` を使う（分かりにくいので `Hadamard(A, B)`とかにしてくれれば良いのだけど。）"
   ]
  },
  {
   "cell_type": "code",
   "execution_count": 9,
   "metadata": {},
   "outputs": [
    {
     "name": "stdout",
     "output_type": "stream",
     "text": [
      "[1 3; 2 4] * [5 7; 6 8] = [23 31; 34 46]\n",
      "[1 3; 2 4] .* [5 7; 6 8] = [5 21; 12 32]\n"
     ]
    }
   ],
   "source": [
    "A = reshape(1:4, 2, 2)\n",
    "B = reshape(5:8, 2, 2)\n",
    "\n",
    "println(\"$A * $B = $(A*B)\")\n",
    "println(\"$A .* $B = $(A.*B)\")\n"
   ]
  }
 ],
 "metadata": {
  "kernelspec": {
   "display_name": "Julia 0.6.2",
   "language": "julia",
   "name": "julia-0.6"
  },
  "language_info": {
   "file_extension": ".jl",
   "mimetype": "application/julia",
   "name": "julia",
   "version": "0.6.2"
  }
 },
 "nbformat": 4,
 "nbformat_minor": 2
}
