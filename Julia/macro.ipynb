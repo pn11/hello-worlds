{
 "cells": [
  {
   "cell_type": "markdown",
   "metadata": {},
   "source": [
    "# マクロの利用\n",
    "\n",
    "Julia 0.6.2 でやってます。\n",
    "\n",
    "マクロの使い方を練習。まずは時間の測り方。`@time` の後に書いた部分の実行時間が表示される。メモリ使用量も。"
   ]
  },
  {
   "cell_type": "code",
   "execution_count": 1,
   "metadata": {},
   "outputs": [
    {
     "name": "stdout",
     "output_type": "stream",
     "text": [
      "test\n",
      "  0.297552 seconds (25.00 k allocations: 1.358 MiB)\n"
     ]
    }
   ],
   "source": [
    "@time println(\"test\")"
   ]
  },
  {
   "cell_type": "code",
   "execution_count": 2,
   "metadata": {},
   "outputs": [
    {
     "name": "stdout",
     "output_type": "stream",
     "text": [
      "  0.408363 seconds (20.47 k allocations: 476.703 KiB)\n"
     ]
    }
   ],
   "source": [
    "@time for i in 0:10000\n",
    "    print(\"\")\n",
    "end"
   ]
  },
  {
   "cell_type": "markdown",
   "metadata": {},
   "source": [
    "時間測定は MATLAB の `tic`, `toc` みたいなのでもできる。"
   ]
  },
  {
   "cell_type": "code",
   "execution_count": 3,
   "metadata": {},
   "outputs": [
    {
     "name": "stdout",
     "output_type": "stream",
     "text": [
      "elapsed time: 0.296271062 seconds\n"
     ]
    },
    {
     "data": {
      "text/plain": [
       "0.296271062"
      ]
     },
     "execution_count": 3,
     "metadata": {},
     "output_type": "execute_result"
    }
   ],
   "source": [
    "tic()\n",
    "for i in 0:10000\n",
    "    print(\"\")\n",
    "end\n",
    "toc()"
   ]
  },
  {
   "cell_type": "markdown",
   "metadata": {},
   "source": [
    "`@show` や `@assert` はデバッグに便利。AssertionError は Jupyter だと良くわからない。"
   ]
  },
  {
   "cell_type": "code",
   "execution_count": 4,
   "metadata": {},
   "outputs": [
    {
     "name": "stdout",
     "output_type": "stream",
     "text": [
      "a = 0\n",
      "a = 1\n",
      "a = 2\n"
     ]
    }
   ],
   "source": [
    "for i in 0:2\n",
    "    a = i\n",
    "    @show a\n",
    "end"
   ]
  },
  {
   "cell_type": "code",
   "execution_count": 5,
   "metadata": {},
   "outputs": [
    {
     "ename": "LoadError",
     "evalue": "\u001b[91mAssertionError: a == 0\u001b[39m",
     "output_type": "error",
     "traceback": [
      "\u001b[91mAssertionError: a == 0\u001b[39m",
      "",
      "Stacktrace:",
      " [1] \u001b[1minclude_string\u001b[22m\u001b[22m\u001b[1m(\u001b[22m\u001b[22m::String, ::String\u001b[1m)\u001b[22m\u001b[22m at \u001b[1m.\\loading.jl:522\u001b[22m\u001b[22m"
     ]
    }
   ],
   "source": [
    "a = 0\n",
    "@assert a == 0\n",
    "\n",
    "a = 1\n",
    "@assert a == 0"
   ]
  }
 ],
 "metadata": {
  "kernelspec": {
   "display_name": "Julia 0.6.2",
   "language": "julia",
   "name": "julia-0.6"
  },
  "language_info": {
   "file_extension": ".jl",
   "mimetype": "application/julia",
   "name": "julia",
   "version": "0.6.2"
  }
 },
 "nbformat": 4,
 "nbformat_minor": 2
}
